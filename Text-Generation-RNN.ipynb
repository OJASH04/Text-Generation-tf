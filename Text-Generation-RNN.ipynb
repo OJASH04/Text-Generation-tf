{
 "cells": [
  {
   "cell_type": "code",
   "execution_count": 1,
   "id": "swiss-midnight",
   "metadata": {},
   "outputs": [
    {
     "name": "stderr",
     "output_type": "stream",
     "text": [
      "Using TensorFlow backend.\n"
     ]
    }
   ],
   "source": [
    "from keras.preprocessing import sequence\n",
    "import keras\n",
    "import tensorflow as tf\n",
    "import os\n",
    "import numpy as np"
   ]
  },
  {
   "cell_type": "markdown",
   "id": "domestic-fence",
   "metadata": {},
   "source": [
    "## Dataset\n",
    "For this example, we only need one piece of training data."
   ]
  },
  {
   "cell_type": "code",
   "execution_count": 2,
   "id": "contemporary-charleston",
   "metadata": {},
   "outputs": [],
   "source": [
    "path_to_file = tf.keras.utils.get_file('shakespeare.txt', 'https://storage.googleapis.com/download.tensorflow.org/data/shakespeare.txt')"
   ]
  },
  {
   "cell_type": "markdown",
   "id": "everyday-payment",
   "metadata": {},
   "source": [
    "### Read Contents of File"
   ]
  },
  {
   "cell_type": "code",
   "execution_count": 3,
   "id": "third-canada",
   "metadata": {},
   "outputs": [
    {
     "name": "stdout",
     "output_type": "stream",
     "text": [
      "Length of text: 1115394 characters\n"
     ]
    }
   ],
   "source": [
    "# Read, then decode for py2 compat.\n",
    "text = open(path_to_file, 'rb').read().decode(encoding='utf-8')\n",
    "# length of text is the number of characters in it\n",
    "print ('Length of text: {} characters'.format(len(text)))"
   ]
  },
  {
   "cell_type": "code",
   "execution_count": 4,
   "id": "intimate-lodging",
   "metadata": {},
   "outputs": [
    {
     "name": "stdout",
     "output_type": "stream",
     "text": [
      "First Citizen:\n",
      "Before we proceed any further, hear me speak.\n",
      "\n",
      "All:\n",
      "Speak, speak.\n",
      "\n",
      "First Citizen:\n",
      "You are all resolved rather to die than to famish?\n",
      "\n",
      "All:\n",
      "Resolved. resolved.\n",
      "\n",
      "First Citizen:\n",
      "First, you know Caius Marcius is chief enemy to the people.\n",
      "\n"
     ]
    }
   ],
   "source": [
    "# Take a look at the first 250 characters in text\n",
    "print(text[:250])"
   ]
  },
  {
   "cell_type": "markdown",
   "id": "infrared-polls",
   "metadata": {},
   "source": [
    "## Encoding"
   ]
  },
  {
   "cell_type": "code",
   "execution_count": 5,
   "id": "secret-tactics",
   "metadata": {},
   "outputs": [],
   "source": [
    "vocab = sorted(set(text))\n",
    "# Creating a mapping from unique characters to indices\n",
    "char2idx = {u:i for i, u in enumerate(vocab)}\n",
    "idx2char = np.array(vocab)\n",
    "\n",
    "def text_to_int(text):\n",
    "  return np.array([char2idx[c] for c in text])\n",
    "\n",
    "text_as_int = text_to_int(text)"
   ]
  },
  {
   "cell_type": "code",
   "execution_count": 6,
   "id": "national-uganda",
   "metadata": {},
   "outputs": [
    {
     "name": "stdout",
     "output_type": "stream",
     "text": [
      "Text: First Citizen\n",
      "Encoded: [18 47 56 57 58  1 15 47 58 47 64 43 52]\n"
     ]
    }
   ],
   "source": [
    "# lets look at how part of our text is encoded\n",
    "print(\"Text:\", text[:13])\n",
    "print(\"Encoded:\", text_to_int(text[:13]))"
   ]
  },
  {
   "cell_type": "code",
   "execution_count": 7,
   "id": "surprising-tracker",
   "metadata": {},
   "outputs": [
    {
     "name": "stdout",
     "output_type": "stream",
     "text": [
      "First Citizen\n"
     ]
    }
   ],
   "source": [
    "def int_to_text(ints):\n",
    "  try:\n",
    "    ints = ints.numpy()\n",
    "  except:\n",
    "    pass\n",
    "  return ''.join(idx2char[ints])\n",
    "\n",
    "print(int_to_text(text_as_int[:13]))"
   ]
  },
  {
   "cell_type": "markdown",
   "id": "vanilla-count",
   "metadata": {},
   "source": [
    "## Creating Training Examples\n",
    "Remember our task is to feed the model a sequence and have it return to us the next character. This means we need to split our text data from above into many shorter sequences that we can pass to the model as training examples. \n",
    "\n",
    "The training examples we will prepapre will use a *seq_length* sequence as input and a *seq_length* sequence as the output where that sequence is the original sequence shifted one letter to the right. For example:\n",
    "\n",
    "```input: Hell | output: ello```"
   ]
  },
  {
   "cell_type": "code",
   "execution_count": 8,
   "id": "introductory-savannah",
   "metadata": {},
   "outputs": [],
   "source": [
    "seq_length = 100  # length of sequence for a training example\n",
    "examples_per_epoch = len(text)//(seq_length+1) \n",
    "\n",
    "# Create training examples / targets\n",
    "char_dataset = tf.data.Dataset.from_tensor_slices(text_as_int)"
   ]
  },
  {
   "cell_type": "code",
   "execution_count": 9,
   "id": "molecular-brown",
   "metadata": {},
   "outputs": [],
   "source": [
    "sequences = char_dataset.batch(seq_length+1, drop_remainder=True)"
   ]
  },
  {
   "cell_type": "code",
   "execution_count": 10,
   "id": "governmental-decline",
   "metadata": {},
   "outputs": [],
   "source": [
    "def split_input_target(chunk):  # for the example: hello\n",
    "    input_text = chunk[:-1]  # hell\n",
    "    target_text = chunk[1:]  # ello\n",
    "    return input_text, target_text  # hell, ello\n",
    "\n",
    "dataset = sequences.map(split_input_target)  # we use map to apply the above function to every entry"
   ]
  },
  {
   "cell_type": "code",
   "execution_count": 11,
   "id": "iraqi-nicholas",
   "metadata": {},
   "outputs": [
    {
     "name": "stdout",
     "output_type": "stream",
     "text": [
      "\n",
      "\n",
      "EXAMPLE\n",
      "\n",
      "INPUT\n",
      "First Citizen:\n",
      "Before we proceed any further, hear me speak.\n",
      "\n",
      "All:\n",
      "Speak, speak.\n",
      "\n",
      "First Citizen:\n",
      "You\n",
      "\n",
      "OUTPUT\n",
      "irst Citizen:\n",
      "Before we proceed any further, hear me speak.\n",
      "\n",
      "All:\n",
      "Speak, speak.\n",
      "\n",
      "First Citizen:\n",
      "You \n",
      "\n",
      "\n",
      "EXAMPLE\n",
      "\n",
      "INPUT\n",
      "are all resolved rather to die than to famish?\n",
      "\n",
      "All:\n",
      "Resolved. resolved.\n",
      "\n",
      "First Citizen:\n",
      "First, you \n",
      "\n",
      "OUTPUT\n",
      "re all resolved rather to die than to famish?\n",
      "\n",
      "All:\n",
      "Resolved. resolved.\n",
      "\n",
      "First Citizen:\n",
      "First, you k\n"
     ]
    }
   ],
   "source": [
    "for x, y in dataset.take(2):\n",
    "  print(\"\\n\\nEXAMPLE\\n\")\n",
    "  print(\"INPUT\")\n",
    "  print(int_to_text(x))\n",
    "  print(\"\\nOUTPUT\")\n",
    "  print(int_to_text(y))"
   ]
  },
  {
   "cell_type": "code",
   "execution_count": 12,
   "id": "sensitive-martial",
   "metadata": {},
   "outputs": [],
   "source": [
    "BATCH_SIZE = 64\n",
    "VOCAB_SIZE = len(vocab)  # vocab is number of unique characters\n",
    "EMBEDDING_DIM = 256\n",
    "RNN_UNITS = 1024\n",
    "\n",
    "# Buffer size to shuffle the dataset\n",
    "# (TF data is designed to work with possibly infinite sequences,\n",
    "# so it doesn't attempt to shuffle the entire sequence in memory. Instead,\n",
    "# it maintains a buffer in which it shuffles elements).\n",
    "BUFFER_SIZE = 10000\n",
    "\n",
    "data = dataset.shuffle(BUFFER_SIZE).batch(BATCH_SIZE, drop_remainder=True)"
   ]
  },
  {
   "cell_type": "markdown",
   "id": "decreased-patient",
   "metadata": {},
   "source": [
    "## Building the Model\n",
    "Now it is time to build the model. We will use an embedding layer a LSTM and one dense layer that contains a node for each unique character in our training data. The dense layer will give us a probability distribution over all nodes."
   ]
  },
  {
   "cell_type": "code",
   "execution_count": 13,
   "id": "educational-royal",
   "metadata": {},
   "outputs": [
    {
     "name": "stdout",
     "output_type": "stream",
     "text": [
      "Model: \"sequential\"\n",
      "_________________________________________________________________\n",
      "Layer (type)                 Output Shape              Param #   \n",
      "=================================================================\n",
      "embedding (Embedding)        (64, None, 256)           16640     \n",
      "_________________________________________________________________\n",
      "lstm (LSTM)                  (64, None, 1024)          5246976   \n",
      "_________________________________________________________________\n",
      "dense (Dense)                (64, None, 65)            66625     \n",
      "=================================================================\n",
      "Total params: 5,330,241\n",
      "Trainable params: 5,330,241\n",
      "Non-trainable params: 0\n",
      "_________________________________________________________________\n"
     ]
    }
   ],
   "source": [
    "def build_model(vocab_size, embedding_dim, rnn_units, batch_size):\n",
    "  model = tf.keras.Sequential([\n",
    "    tf.keras.layers.Embedding(vocab_size, embedding_dim,\n",
    "                              batch_input_shape=[batch_size, None]),\n",
    "    tf.keras.layers.LSTM(rnn_units,\n",
    "                        return_sequences=True,\n",
    "                        stateful=True,\n",
    "                        recurrent_initializer='glorot_uniform'),\n",
    "    tf.keras.layers.Dense(vocab_size)\n",
    "  ])\n",
    "  return model\n",
    "\n",
    "model = build_model(VOCAB_SIZE,EMBEDDING_DIM, RNN_UNITS, BATCH_SIZE)\n",
    "model.summary()"
   ]
  },
  {
   "cell_type": "markdown",
   "id": "pretty-chuck",
   "metadata": {},
   "source": [
    "## Creating a Loss Function\n",
    "Now we are going to create our own loss function for this problem. This is because our model will output a (64, sequence_length, 65) shaped tensor that represents the probability distribution of each character at each timestep for every sequence in the batch."
   ]
  },
  {
   "cell_type": "code",
   "execution_count": 14,
   "id": "forward-richards",
   "metadata": {},
   "outputs": [
    {
     "name": "stdout",
     "output_type": "stream",
     "text": [
      "(64, 100, 65) # (batch_size, sequence_length, vocab_size)\n"
     ]
    }
   ],
   "source": [
    "for input_example_batch, target_example_batch in data.take(1):\n",
    "  example_batch_predictions = model(input_example_batch)  # ask our model for a prediction on our first batch of training data (64 entries)\n",
    "  print(example_batch_predictions.shape, \"# (batch_size, sequence_length, vocab_size)\")  # print out the output shape"
   ]
  },
  {
   "cell_type": "code",
   "execution_count": 15,
   "id": "precious-resistance",
   "metadata": {},
   "outputs": [
    {
     "name": "stdout",
     "output_type": "stream",
     "text": [
      "64\n",
      "tf.Tensor(\n",
      "[[[ 5.2516758e-03 -5.7410169e-03 -2.7686404e-03 ...  3.8528582e-03\n",
      "    3.9430615e-03  2.9179724e-03]\n",
      "  [ 5.0941580e-03 -4.2886864e-03 -2.0782088e-03 ...  8.6413026e-03\n",
      "    1.5592481e-03 -2.0951182e-03]\n",
      "  [ 1.3048925e-03 -7.5164484e-04 -5.8804089e-03 ... -2.5583096e-03\n",
      "   -3.3797421e-03  1.0730006e-03]\n",
      "  ...\n",
      "  [ 4.1696918e-03 -1.1991682e-03  7.5377254e-03 ... -6.4307344e-03\n",
      "   -3.3237496e-03  5.7446030e-03]\n",
      "  [ 1.3672338e-03 -5.3913007e-03  3.7635290e-03 ... -4.4851499e-03\n",
      "   -1.0357957e-03  4.2656506e-03]\n",
      "  [-3.4615826e-03 -3.5960511e-03  4.6711080e-03 ... -3.3801701e-03\n",
      "   -4.0323623e-03  5.1656095e-03]]\n",
      "\n",
      " [[-5.5235340e-03  3.1025455e-05  6.2452694e-03 ... -2.7626459e-03\n",
      "    1.9156712e-03  5.9473477e-03]\n",
      "  [-7.4729940e-04  1.5982735e-03  3.3426988e-03 ... -2.2754383e-03\n",
      "    3.6895364e-03  5.0215973e-03]\n",
      "  [-7.9375325e-04 -5.1808693e-03  4.9773958e-03 ...  9.9693739e-04\n",
      "    7.2231106e-03  3.2539689e-03]\n",
      "  ...\n",
      "  [ 1.0038590e-02  1.6740793e-03  2.4718726e-03 ... -1.1085863e-03\n",
      "   -8.5406154e-03  6.7445543e-03]\n",
      "  [ 1.1382895e-02 -4.4859853e-04  7.7325883e-03 ... -2.4597810e-03\n",
      "   -9.0448465e-03  9.5792310e-03]\n",
      "  [ 1.0037910e-02 -1.2314799e-03  7.3941718e-03 ... -1.6353342e-03\n",
      "   -1.1049943e-02  9.3151126e-03]]\n",
      "\n",
      " [[ 2.3052171e-03  2.5716508e-03 -1.0655650e-03 ...  3.0127640e-03\n",
      "    1.3088622e-03 -4.3140789e-03]\n",
      "  [ 1.8034542e-03 -2.5577056e-03 -3.1140554e-03 ...  1.8691201e-03\n",
      "    8.0445944e-04 -5.7516452e-03]\n",
      "  [-7.7040994e-04 -2.8495581e-03 -1.1425720e-03 ...  5.7803285e-03\n",
      "    7.9218927e-04 -3.6089765e-03]\n",
      "  ...\n",
      "  [ 6.5849172e-03 -3.4441240e-05  1.4065159e-03 ... -1.5227051e-03\n",
      "    1.1840328e-03 -1.3829840e-03]\n",
      "  [ 7.2808871e-03  1.6365026e-03  9.8012935e-04 ... -8.3881279e-04\n",
      "    3.4291090e-03  3.3419370e-04]\n",
      "  [ 2.9043127e-03 -4.7722482e-03  5.3803832e-04 ...  3.0808977e-04\n",
      "    3.1844284e-03  7.5603207e-04]]\n",
      "\n",
      " ...\n",
      "\n",
      " [[ 6.0725077e-03  2.6728446e-03  6.5464526e-04 ...  1.9191988e-03\n",
      "    3.3256582e-03  1.0283992e-02]\n",
      "  [ 6.1411234e-03 -9.0182241e-04  5.2028592e-03 ...  3.7975400e-04\n",
      "    1.4757842e-03  1.0586262e-02]\n",
      "  [ 5.8697355e-03 -7.4767583e-04  4.1478747e-03 ...  5.3399866e-03\n",
      "   -5.5272412e-04  4.2777029e-03]\n",
      "  ...\n",
      "  [ 7.7898405e-04 -2.2783955e-03 -6.0819020e-03 ...  2.5071164e-03\n",
      "    4.3251724e-03 -8.8138757e-03]\n",
      "  [-4.8408699e-03 -2.0038583e-03 -1.4460564e-03 ...  1.3337629e-03\n",
      "   -2.4478696e-04 -4.6270494e-03]\n",
      "  [-4.4804788e-03 -6.0217162e-03  1.1293420e-03 ...  2.3271369e-03\n",
      "    7.0133610e-03 -5.2701822e-03]]\n",
      "\n",
      " [[ 4.8286156e-03 -7.5933983e-04  4.7603380e-03 ... -1.8398942e-03\n",
      "   -6.2747984e-03  2.4485006e-03]\n",
      "  [ 4.8465673e-03 -8.6951093e-04 -6.4478215e-04 ... -5.6574717e-03\n",
      "   -1.8313598e-03  5.9443917e-03]\n",
      "  [ 1.2175237e-03  2.8056647e-03 -8.6708670e-04 ... -5.6518782e-03\n",
      "    2.1817260e-03  9.1822920e-03]\n",
      "  ...\n",
      "  [ 7.2246250e-03 -3.7199352e-03  1.1145184e-02 ... -2.3251362e-03\n",
      "   -4.8741093e-04  6.2614824e-03]\n",
      "  [ 1.1153606e-03 -9.7877253e-04  1.4396863e-02 ... -6.0510896e-03\n",
      "    1.9332083e-03  1.1253803e-02]\n",
      "  [ 5.3159450e-03  1.9583772e-03  9.4492082e-03 ... -5.7687862e-03\n",
      "    3.9561959e-03  9.5874546e-03]]\n",
      "\n",
      " [[ 5.2516758e-03 -5.7410169e-03 -2.7686404e-03 ...  3.8528582e-03\n",
      "    3.9430615e-03  2.9179724e-03]\n",
      "  [ 1.5332021e-03 -4.1808928e-03 -1.1676244e-03 ...  7.1096644e-03\n",
      "    1.7853831e-03  3.7598375e-03]\n",
      "  [ 2.0005545e-03 -4.5689130e-03  1.5367675e-03 ...  7.6387567e-03\n",
      "   -2.3955866e-03  1.6568884e-03]\n",
      "  ...\n",
      "  [ 9.6665230e-03  7.0726965e-05  1.6194538e-03 ...  6.6626770e-03\n",
      "    9.6354249e-04  2.2635618e-03]\n",
      "  [ 8.1577450e-03  2.2445451e-03  5.1218327e-03 ...  4.2136637e-03\n",
      "   -1.1203383e-03  1.4718343e-03]\n",
      "  [ 4.0347222e-03  1.3646109e-03  6.8670698e-03 ...  7.3264958e-03\n",
      "   -1.0015612e-03  4.6650181e-03]]], shape=(64, 100, 65), dtype=float32)\n"
     ]
    }
   ],
   "source": [
    "# we can see that the predicition is an array of 64 arrays, one for each entry in the batch\n",
    "print(len(example_batch_predictions))\n",
    "print(example_batch_predictions)"
   ]
  },
  {
   "cell_type": "code",
   "execution_count": 16,
   "id": "exterior-spider",
   "metadata": {},
   "outputs": [
    {
     "name": "stdout",
     "output_type": "stream",
     "text": [
      "100\n",
      "tf.Tensor(\n",
      "[[ 0.00525168 -0.00574102 -0.00276864 ...  0.00385286  0.00394306\n",
      "   0.00291797]\n",
      " [ 0.00509416 -0.00428869 -0.00207821 ...  0.0086413   0.00155925\n",
      "  -0.00209512]\n",
      " [ 0.00130489 -0.00075164 -0.00588041 ... -0.00255831 -0.00337974\n",
      "   0.001073  ]\n",
      " ...\n",
      " [ 0.00416969 -0.00119917  0.00753773 ... -0.00643073 -0.00332375\n",
      "   0.0057446 ]\n",
      " [ 0.00136723 -0.0053913   0.00376353 ... -0.00448515 -0.0010358\n",
      "   0.00426565]\n",
      " [-0.00346158 -0.00359605  0.00467111 ... -0.00338017 -0.00403236\n",
      "   0.00516561]], shape=(100, 65), dtype=float32)\n"
     ]
    }
   ],
   "source": [
    "# lets examine one prediction\n",
    "pred = example_batch_predictions[0]\n",
    "print(len(pred))\n",
    "print(pred)\n",
    "# notice this is a 2d array of length 100, where each interior array is the prediction for the next character at each time step"
   ]
  },
  {
   "cell_type": "code",
   "execution_count": 17,
   "id": "bound-beaver",
   "metadata": {},
   "outputs": [
    {
     "name": "stdout",
     "output_type": "stream",
     "text": [
      "65\n",
      "tf.Tensor(\n",
      "[ 0.00525168 -0.00574102 -0.00276864 -0.00313823 -0.00311527 -0.00758283\n",
      "  0.00162642 -0.00249862 -0.00217521 -0.00403886 -0.000759    0.00298938\n",
      " -0.00059925  0.0008098  -0.00405735 -0.00033316  0.0002782  -0.00040499\n",
      "  0.00165417 -0.00067191  0.00321821 -0.0026378   0.00279826 -0.00527506\n",
      "  0.00250471 -0.00043828 -0.00493765  0.00243706 -0.00318359  0.00213573\n",
      " -0.00586139  0.00318873  0.00012816 -0.00221743 -0.00562418  0.00299137\n",
      "  0.00325543 -0.00250484  0.00257275 -0.00644769 -0.00352658  0.00109029\n",
      "  0.00133318 -0.00300283 -0.00112588  0.00219755 -0.00065659 -0.0003406\n",
      "  0.00367302 -0.00232274 -0.00151136 -0.00109861  0.00425863  0.00268207\n",
      " -0.00184465  0.0045941   0.00118531 -0.00313647 -0.00392849  0.00150481\n",
      "  0.00233619 -0.00610799  0.00385286  0.00394306  0.00291797], shape=(65,), dtype=float32)\n"
     ]
    }
   ],
   "source": [
    "# and finally well look at a prediction at the first timestep\n",
    "time_pred = pred[0]\n",
    "print(len(time_pred))\n",
    "print(time_pred)\n",
    "# and of course its 65 values representing the probabillity of each character occuring next"
   ]
  },
  {
   "cell_type": "code",
   "execution_count": 18,
   "id": "acquired-breeding",
   "metadata": {},
   "outputs": [
    {
     "data": {
      "text/plain": [
       "\"DOzrrTCJJdYP-ic;ilT!BRUBLAfGyBUVZprBCev$!oajSm-, W&Yke\\n-&mPJFlB,E\\nBmpb.XhgUfor;;dIssKTZeVX?!?W'M?OKT\""
      ]
     },
     "execution_count": 18,
     "metadata": {},
     "output_type": "execute_result"
    }
   ],
   "source": [
    "# If we want to determine the predicted character we need to sample the output distribution (pick a value based on probabillity)\n",
    "sampled_indices = tf.random.categorical(pred, num_samples=1)\n",
    "\n",
    "# now we can reshape that array and convert all the integers to numbers to see the actual characters\n",
    "sampled_indices = np.reshape(sampled_indices, (1, -1))[0]\n",
    "predicted_chars = int_to_text(sampled_indices)\n",
    "\n",
    "predicted_chars  # and this is what the model predicted for training sequence 1"
   ]
  },
  {
   "cell_type": "code",
   "execution_count": 19,
   "id": "cordless-reunion",
   "metadata": {},
   "outputs": [],
   "source": [
    "def loss(labels, logits):\n",
    "  return tf.keras.losses.sparse_categorical_crossentropy(labels, logits, from_logits=True)"
   ]
  },
  {
   "cell_type": "code",
   "execution_count": 20,
   "id": "upset-mother",
   "metadata": {},
   "outputs": [],
   "source": [
    "model.compile(optimizer='adam', loss=loss)"
   ]
  },
  {
   "cell_type": "markdown",
   "id": "endangered-novel",
   "metadata": {},
   "source": [
    "## Creating Checkpoints\n",
    "Now we are going to setup and configure our model to save checkpoinst as it trains. This will allow us to load our model from a checkpoint and continue training it."
   ]
  },
  {
   "cell_type": "code",
   "execution_count": 21,
   "id": "military-death",
   "metadata": {},
   "outputs": [],
   "source": [
    "# Directory where the checkpoints will be saved\n",
    "checkpoint_dir = './training_checkpoints'\n",
    "# Name of the checkpoint files\n",
    "checkpoint_prefix = os.path.join(checkpoint_dir, \"ckpt_{epoch}\")\n",
    "\n",
    "checkpoint_callback=tf.keras.callbacks.ModelCheckpoint(\n",
    "    filepath=checkpoint_prefix,\n",
    "    save_weights_only=True)"
   ]
  },
  {
   "cell_type": "markdown",
   "id": "excessive-irrigation",
   "metadata": {},
   "source": [
    "## Training"
   ]
  },
  {
   "cell_type": "code",
   "execution_count": 22,
   "id": "wanted-marshall",
   "metadata": {},
   "outputs": [
    {
     "name": "stdout",
     "output_type": "stream",
     "text": [
      "Train for 172 steps\n",
      "Epoch 1/50\n",
      "172/172 [==============================] - 11s 63ms/step - loss: 2.5921\n",
      "Epoch 2/50\n",
      "172/172 [==============================] - 10s 56ms/step - loss: 1.8855\n",
      "Epoch 3/50\n",
      "172/172 [==============================] - 10s 59ms/step - loss: 1.6361\n",
      "Epoch 4/50\n",
      "172/172 [==============================] - 10s 56ms/step - loss: 1.5039\n",
      "Epoch 5/50\n",
      "172/172 [==============================] - 10s 59ms/step - loss: 1.4241\n",
      "Epoch 6/50\n",
      "172/172 [==============================] - 10s 58ms/step - loss: 1.3675\n",
      "Epoch 7/50\n",
      "172/172 [==============================] - 10s 59ms/step - loss: 1.3235\n",
      "Epoch 8/50\n",
      "172/172 [==============================] - 10s 56ms/step - loss: 1.2869\n",
      "Epoch 9/50\n",
      "172/172 [==============================] - 10s 56ms/step - loss: 1.2515\n",
      "Epoch 10/50\n",
      "172/172 [==============================] - 10s 60ms/step - loss: 1.2178\n",
      "Epoch 11/50\n",
      "172/172 [==============================] - 10s 59ms/step - loss: 1.1848\n",
      "Epoch 12/50\n",
      "172/172 [==============================] - 10s 61ms/step - loss: 1.1506\n",
      "Epoch 13/50\n",
      "172/172 [==============================] - 10s 56ms/step - loss: 1.1150\n",
      "Epoch 14/50\n",
      "172/172 [==============================] - 10s 60ms/step - loss: 1.0796\n",
      "Epoch 15/50\n",
      "172/172 [==============================] - 10s 61ms/step - loss: 1.0421\n",
      "Epoch 16/50\n",
      "172/172 [==============================] - 10s 60ms/step - loss: 1.0032\n",
      "Epoch 17/50\n",
      "172/172 [==============================] - 10s 58ms/step - loss: 0.9659\n",
      "Epoch 18/50\n",
      "172/172 [==============================] - 10s 57ms/step - loss: 0.9264\n",
      "Epoch 19/50\n",
      "172/172 [==============================] - 10s 60ms/step - loss: 0.8880\n",
      "Epoch 20/50\n",
      "172/172 [==============================] - 10s 57ms/step - loss: 0.8504\n",
      "Epoch 21/50\n",
      "172/172 [==============================] - 10s 59ms/step - loss: 0.8144\n",
      "Epoch 22/50\n",
      "172/172 [==============================] - 10s 57ms/step - loss: 0.7798\n",
      "Epoch 23/50\n",
      "172/172 [==============================] - 10s 58ms/step - loss: 0.7480\n",
      "Epoch 24/50\n",
      "172/172 [==============================] - 10s 56ms/step - loss: 0.7189\n",
      "Epoch 25/50\n",
      "172/172 [==============================] - 10s 58ms/step - loss: 0.6917\n",
      "Epoch 26/50\n",
      "172/172 [==============================] - 10s 57ms/step - loss: 0.6659\n",
      "Epoch 27/50\n",
      "172/172 [==============================] - 10s 59ms/step - loss: 0.6427\n",
      "Epoch 28/50\n",
      "172/172 [==============================] - 10s 58ms/step - loss: 0.6214\n",
      "Epoch 29/50\n",
      "172/172 [==============================] - 11s 62ms/step - loss: 0.6023\n",
      "Epoch 30/50\n",
      "172/172 [==============================] - 10s 61ms/step - loss: 0.5851\n",
      "Epoch 31/50\n",
      "172/172 [==============================] - 10s 57ms/step - loss: 0.5697\n",
      "Epoch 32/50\n",
      "172/172 [==============================] - 10s 61ms/step - loss: 0.5549\n",
      "Epoch 33/50\n",
      "172/172 [==============================] - 10s 60ms/step - loss: 0.5424\n",
      "Epoch 34/50\n",
      "172/172 [==============================] - 10s 57ms/step - loss: 0.5295\n",
      "Epoch 35/50\n",
      "172/172 [==============================] - 10s 57ms/step - loss: 0.5184\n",
      "Epoch 36/50\n",
      "172/172 [==============================] - 10s 60ms/step - loss: 0.5083\n",
      "Epoch 37/50\n",
      "172/172 [==============================] - 10s 57ms/step - loss: 0.5011\n",
      "Epoch 38/50\n",
      "172/172 [==============================] - 11s 62ms/step - loss: 0.4919\n",
      "Epoch 39/50\n",
      "172/172 [==============================] - 10s 58ms/step - loss: 0.4856\n",
      "Epoch 40/50\n",
      "172/172 [==============================] - 10s 59ms/step - loss: 0.4793\n",
      "Epoch 41/50\n",
      "172/172 [==============================] - 10s 58ms/step - loss: 0.4724\n",
      "Epoch 42/50\n",
      "172/172 [==============================] - 10s 60ms/step - loss: 0.4648\n",
      "Epoch 43/50\n",
      "172/172 [==============================] - 10s 60ms/step - loss: 0.4614\n",
      "Epoch 44/50\n",
      "172/172 [==============================] - 10s 60ms/step - loss: 0.4571\n",
      "Epoch 45/50\n",
      "172/172 [==============================] - 10s 58ms/step - loss: 0.4492\n",
      "Epoch 46/50\n",
      "172/172 [==============================] - 11s 61ms/step - loss: 0.4454\n",
      "Epoch 47/50\n",
      "172/172 [==============================] - 10s 59ms/step - loss: 0.4421\n",
      "Epoch 48/50\n",
      "172/172 [==============================] - 10s 60ms/step - loss: 0.4417\n",
      "Epoch 49/50\n",
      "172/172 [==============================] - 10s 59ms/step - loss: 0.4372\n",
      "Epoch 50/50\n",
      "172/172 [==============================] - 11s 66ms/step - loss: 0.4328\n"
     ]
    }
   ],
   "source": [
    "history = model.fit(data, epochs=50, callbacks=[checkpoint_callback])"
   ]
  },
  {
   "cell_type": "markdown",
   "id": "ecological-dietary",
   "metadata": {},
   "source": [
    "## Loading the Model"
   ]
  },
  {
   "cell_type": "code",
   "execution_count": 23,
   "id": "breathing-choice",
   "metadata": {},
   "outputs": [],
   "source": [
    "model = build_model(VOCAB_SIZE, EMBEDDING_DIM, RNN_UNITS, batch_size=1)"
   ]
  },
  {
   "cell_type": "code",
   "execution_count": 24,
   "id": "civil-patient",
   "metadata": {},
   "outputs": [],
   "source": [
    "model.load_weights(tf.train.latest_checkpoint(checkpoint_dir))\n",
    "model.build(tf.TensorShape([1, None]))"
   ]
  },
  {
   "cell_type": "markdown",
   "id": "proved-modeling",
   "metadata": {},
   "source": [
    "## Generating Text"
   ]
  },
  {
   "cell_type": "code",
   "execution_count": 25,
   "id": "moving-drain",
   "metadata": {},
   "outputs": [],
   "source": [
    "def generate_text(model, start_string):\n",
    "  # Evaluation step (generating text using the learned model)\n",
    "\n",
    "  # Number of characters to generate\n",
    "  num_generate = 800\n",
    "\n",
    "  # Converting our start string to numbers (vectorizing)\n",
    "  input_eval = [char2idx[s] for s in start_string]\n",
    "  input_eval = tf.expand_dims(input_eval, 0) # To create a nested list which represents one batch \n",
    "\n",
    "  # Empty string to store our results\n",
    "  text_generated = []\n",
    "\n",
    "  # Low temperatures results in more predictable text.\n",
    "  # Higher temperatures results in more surprising text.\n",
    "  # Experiment to find the best setting.\n",
    "  temperature = 1.0\n",
    "\n",
    "  # Here batch size == 1\n",
    "  model.reset_states()\n",
    "  for i in range(num_generate):\n",
    "      predictions = model(input_eval)\n",
    "      # remove the batch dimension\n",
    "    \n",
    "      predictions = tf.squeeze(predictions, 0)\n",
    "\n",
    "      # using a categorical distribution to predict the character returned by the model\n",
    "      predictions = predictions / temperature\n",
    "      predicted_id = tf.random.categorical(predictions, num_samples=1)[-1,0].numpy()\n",
    "\n",
    "      # We pass the predicted character as the next input to the model\n",
    "      # along with the previous hidden state\n",
    "      input_eval = tf.expand_dims([predicted_id], 0)\n",
    "\n",
    "      text_generated.append(idx2char[predicted_id])\n",
    "\n",
    "  return (start_string + ''.join(text_generated))"
   ]
  },
  {
   "cell_type": "code",
   "execution_count": 26,
   "id": "future-convergence",
   "metadata": {},
   "outputs": [
    {
     "name": "stdout",
     "output_type": "stream",
     "text": [
      "Type a starting string: Hello\n",
      "Hellow is the point.\n",
      "\n",
      "ISABELLA:\n",
      "Sir, but needer's he.\n",
      "And, Clarence, now thou art said 'Ay.'\n",
      "And, liss, you are treed, you are too sorrow.\n",
      "\n",
      "LEONTES:\n",
      "O sweet Bianca, be a pape.\n",
      "\n",
      "POMPEY:\n",
      "I beseech you, sir, be merry; I do think of the\n",
      "voice is a sickness is not cocketh that there will I come\n",
      "And lead thy death appear, unto me well,\n",
      "As I am nd you all my day.\n",
      "\n",
      "JULIET:\n",
      "After.\n",
      "\n",
      "CAPULET:\n",
      "Alas! what would I cannot do.\n",
      "\n",
      "ROMEO:\n",
      "Before it to thyself and my wedded men\n",
      "And his shore purch am up, sure, knave you not\n",
      "appearing me to crus so, but your mother was proclaim\n",
      "False to him to a horse,\n",
      "Never cannot many that bold still wash'd your heart what is\n",
      "broken on?\n",
      "\n",
      "PAULINA:\n",
      "Well, poor whom I pence his summer flies;\n",
      "I am inform'd that he hath observed it?\n",
      "As if I love his head in holy friar,\n",
      "Our army is not s\n"
     ]
    }
   ],
   "source": [
    "inp = input(\"Type a starting string: \")\n",
    "print(generate_text(model, inp))"
   ]
  }
 ],
 "metadata": {
  "kernelspec": {
   "display_name": "Python 3",
   "language": "python",
   "name": "python3"
  },
  "language_info": {
   "codemirror_mode": {
    "name": "ipython",
    "version": 3
   },
   "file_extension": ".py",
   "mimetype": "text/x-python",
   "name": "python",
   "nbconvert_exporter": "python",
   "pygments_lexer": "ipython3",
   "version": "3.8.8"
  }
 },
 "nbformat": 4,
 "nbformat_minor": 5
}
